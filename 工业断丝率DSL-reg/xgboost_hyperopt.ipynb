{
 "cells": [
  {
   "cell_type": "code",
   "execution_count": 33,
   "id": "4f9b7052",
   "metadata": {},
   "outputs": [],
   "source": [
    "import numpy as np\n",
    "import pandas as pd\n",
    "import matplotlib.pyplot as plt\n",
    "import seaborn as sns\n",
    "import copy, math\n",
    "from sklearn import model_selection\n",
    "from sklearn.model_selection import train_test_split\n",
    "from sklearn import preprocessing\n",
    "from sklearn.metrics import mean_squared_error\n",
    "from sklearn.metrics import explained_variance_score\n",
    "from sklearn.metrics import r2_score\n",
    "import xgboost as xgb\n",
    "from xgboost import XGBRegressor\n",
    "import pickle\n",
    "import time\n",
    "\n",
    "df = pd.read_csv('trial_constructed.csv')\n",
    "# Prepare Data\n",
    "X = df.drop(columns = ['DSL'])\n",
    "y = df['DSL']\n",
    "X_train, X_test, y_train, y_test = model_selection.train_test_split(X, y, test_size = 0.1, random_state=200)\n",
    "# # 转化为数组\n",
    "X_train = np.array(X_train)\n",
    "y_train = np.array(y_train)"
   ]
  },
  {
   "cell_type": "code",
   "execution_count": 26,
   "id": "42d4dd06",
   "metadata": {
    "scrolled": true
   },
   "outputs": [
    {
     "name": "stdout",
     "output_type": "stream",
     "text": [
      "100%|█████| 400/400 [1:09:30<00:00, 10.43s/trial, best loss: 0.9683474256065063]\n",
      "{'alpha': 0.35000000000000003, 'colsample_bytree': 0.8500000000000001, 'eta': 0.45, 'gamma': 0.67, 'max_depth': 8.85, 'min_child_weight': 3.0500000000000003, 'n_estimators': 132.70000000000002, 'subsample': 0.45}\n"
     ]
    }
   ],
   "source": [
    "from hyperopt import fmin, tpe, hp,space_eval,rand,Trials,partial,STATUS_OK\n",
    "def score(params):\n",
    "    model = XGBRegressor(booster = 'gbtree',\n",
    "                     learning_rate = 0.12, \n",
    "                     n_estimators = 2000, \n",
    "                     max_depth = 7, \n",
    "                     eta = 0.2, \n",
    "                     seed = 8, \n",
    "                     subsample = 1, \n",
    "                     colsample_bytree = 0.345, \n",
    "                     alpha = 0.33,\n",
    "                     objective = 'reg:squarederror')\n",
    "    \n",
    "    model.fit(X_train, y_train)\n",
    "    y_pred = model.predict(X_test)\n",
    "    score = model.score(X_test, y_test)\n",
    "    return score\n",
    "\n",
    "def optimize(random_state):\n",
    "    space = {\n",
    "#              通用参数\n",
    "             \"booster\" : 'gbtree', \n",
    "             \"silent\" : 0, # nthread 不管\n",
    "#              学习目标参数\n",
    "             \"objective\" : 'reg:squarederror', \n",
    "             \"eval_metric\" : 'rmse', \n",
    "             \"seed\" : random_state,  \n",
    "             \"learning_rate\" : 0.12,  # hp.quniform(\"learning_rate\", 0.01, 0.5, 0.001), \n",
    "#              booster参数\n",
    "             \"eta\" : hp.quniform('eta', 0.025, 0.5, 0.05),  #0.15\n",
    "             \"min_child_weight\" : hp.quniform('min_child_weight', 2, 10, 0.05), \n",
    "             \"n_estimators\" : hp.quniform('n_estimators', 50, 150, 0.05),  # 50,\n",
    "             \"max_depth\" :  hp.quniform('max_depth', 3, 50, 0.05),  # 7, \n",
    "             \"subsample\" : hp.quniform('subsample', 0.2, 0.8, 0.05),  # 0.4\n",
    "             'gamma': hp.quniform('gamma', 0.2, 0.8, 0.01),  # 0.65,  \n",
    "             \"colsample_bytree\" : hp.quniform('colsample_bytree', 0.1, 1, 0.05),  # 0.5\n",
    "             \"alpha\" : hp.quniform('alpha', 0.2, 0.8, 0.01)  # 0.5 \n",
    "          }\n",
    "    best = fmin(score, space, algo = tpe.suggest, max_evals = 400)\n",
    "    return best\n",
    "\n",
    "best_params = optimize(200)\n",
    "print(best_params)"
   ]
  },
  {
   "cell_type": "code",
   "execution_count": 34,
   "id": "9428d8f8",
   "metadata": {},
   "outputs": [
    {
     "name": "stdout",
     "output_type": "stream",
     "text": [
      "EVS:  0.9367880367602687\n",
      "R2:  0.9367880330041469\n",
      "MSE:  0.15080811820819096\n",
      "MAPE:  0.16307094049694804\n"
     ]
    }
   ],
   "source": [
    "best_model = XGBRegressor(gamma= 0.67, \n",
    "                          max_depth= 9, \n",
    "                          min_child_weight= 3.05, \n",
    "                          n_estimators= 133, \n",
    "                          subsample= 0.45, \n",
    "                         objective= 'reg:squarederror', \n",
    "                         eval_metric = 'rmse', \n",
    "                         seed = 200,  \n",
    "                         learning_rate = 0.12,\n",
    "                         eta=0.45,\n",
    "                          colsample_bytree =0.85, \n",
    "                         alpha = 0.35000000000000003\n",
    "                         )\n",
    "\n",
    "best_model.fit(X_train, y_train)\n",
    "y_pred = best_model.predict(X)\n",
    "\n",
    "def metrics_sklearn(y_valid, y_pred_):\n",
    "    \"\"\"模型对验证集和测试集结果的评分\"\"\"\n",
    "    EVS = explained_variance_score(y_valid, y_pred_)\n",
    "    print(\"EVS: \", EVS)\n",
    "    \n",
    "    R2 = r2_score(y_valid, y_pred_)\n",
    "    print(\"R2: \", R2)\n",
    "    \n",
    "    MSE = mean_squared_error(y_valid, y_pred_)\n",
    "    print(\"MSE: \", MSE)\n",
    "    \n",
    "    MAPE=(abs(y_pred -y_valid)/ y_valid).mean()\n",
    "    print(\"MAPE: \", MAPE)\n",
    "    \n",
    "\n",
    "\n",
    "metrics_sklearn(y, y_pred)"
   ]
  },
  {
   "cell_type": "markdown",
   "id": "9c3e4988",
   "metadata": {},
   "source": [
    "### model = XGBRegressor(booster = 'gbtree',  # ✅\n",
    "                     learning_rate = 0.12, \n",
    "                     n_estimators = 2000, \n",
    "                     max_depth = 7, \n",
    "                     eta = 0.2, \n",
    "#                      min_child_weigh = 0.1,  # 这个参数没被用到 暂且忽略\n",
    "                     seed = 8,  # ✅\n",
    "                     subsample = 1, \n",
    "                     colsample_bytree = 0.345, \n",
    "#                      colsample_byleve = 0.5,  # 这个参数没被用到 暂且忽略\n",
    "                     alpha = 0.33,\n",
    "                     objective = 'reg:squarederror', \n",
    "#                      eval_metricm = 'rsmse',  # 这个参数没被用到 暂且忽略\n",
    "                    )\n",
    "model.fit(X_train, y_train)\n",
    "\n",
    "eval_set = [(X_test, y_test)]\n",
    "\n",
    "y_pred = model.predict(X_test)\n",
    "X_test.columns = X_test.columns.astype(str)\n",
    "print(model.score(X_test, y_test))"
   ]
  },
  {
   "cell_type": "code",
   "execution_count": null,
   "id": "e39f8a6d",
   "metadata": {},
   "outputs": [],
   "source": []
  }
 ],
 "metadata": {
  "kernelspec": {
   "display_name": "Python 3 (ipykernel)",
   "language": "python",
   "name": "python3"
  },
  "language_info": {
   "codemirror_mode": {
    "name": "ipython",
    "version": 3
   },
   "file_extension": ".py",
   "mimetype": "text/x-python",
   "name": "python",
   "nbconvert_exporter": "python",
   "pygments_lexer": "ipython3",
   "version": "3.11.3"
  }
 },
 "nbformat": 4,
 "nbformat_minor": 5
}
